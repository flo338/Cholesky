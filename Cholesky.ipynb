{
 "cells": [
  {
   "cell_type": "markdown",
   "id": "f252f1e6-b6b4-46cc-9c59-dd2760065c69",
   "metadata": {
    "tags": []
   },
   "source": [
    "## Cholesky\n",
    "\n",
    "> Solves $A=LLT$ with respect to $L$, where $L$ is a lower triangular matrix. $A$ must be Hermitian positive-definite.\n",
    "\n",
    "Parameters  $A$ : Numpy array Hermitian, positive-definite input matrix.\n",
    "\n",
    "Returns  $L$ : Numpy array Lower triangular matrix with $LLT=A$"
   ]
  },
  {
   "cell_type": "code",
   "execution_count": 1,
   "id": "6c016b44-6c2e-4a8a-8f46-605b809049db",
   "metadata": {
    "tags": []
   },
   "outputs": [],
   "source": [
    "import numpy as np\n",
    "\n",
    "def cholesky(A, safety=True):\n",
    "    \"\"\"\n",
    "    Solves $A = LL^T$ with respect to $L$, where $L$ is a lower triangular matrix.\n",
    "    ´A´ must be Hermitian positive-definite.\n",
    "    \n",
    "    Parameters\n",
    "    ----------\n",
    "    A : (N,N) Numpy array\n",
    "        Hermitian, positive-definite input matrix.\n",
    "\n",
    "    Returns\n",
    "    -------\n",
    "    L : (N,N) Numpy array\n",
    "        Lower triangular matrix with $LL^T = A$\n",
    "        \n",
    "        \n",
    "        \n",
    "    Implementation of algorithm 1.3.2 (Column Sweep Cholesky) from the book 'Numerical Methods in Matrix Computations' (2015) by Åke Björck on page 77\n",
    "    \"\"\"\n",
    "    if safety:\n",
    "        assert np.all(A == np.conjugate(A).T), 'Matrix is not hermitian'\n",
    "    \n",
    "    n = A.shape[0]    \n",
    "\n",
    "    if np.any(np.iscomplex(A)):\n",
    "        A = A.copy().astype(complex)\n",
    "        L = np.zeros((n,n)).astype(complex)\n",
    "    else:\n",
    "        A = A.copy().astype(float)\n",
    "        L = np.zeros((n,n)).astype(float)    \n",
    "    \n",
    "    for j in range(n):\n",
    "        \n",
    "        L[j, j] = np.sqrt(A[j,j] - np.dot(L[j,0:j], np.conj(L[j,0:j]) ))\n",
    "        \n",
    "        for i in range(j+1, n):\n",
    "            \n",
    "            L[i,j] = (A[i, j] - np.dot(L[i, 0:j], np.conj(L[j, 0:j]) )) / L[j,j]\n",
    "                        \n",
    "    return L\n",
    "    "
   ]
  },
  {
   "cell_type": "code",
   "execution_count": 2,
   "id": "ab18a5ab-af7d-4755-9454-8f3a226a83ef",
   "metadata": {
    "tags": []
   },
   "outputs": [],
   "source": [
    "def backward_substitution(L,b):\n",
    "    n = b.shape[0]\n",
    "    z = np.zeros(n)\n",
    "    L = L.copy().astype(float)\n",
    "    b = b.copy().astype(float)\n",
    "    \n",
    "    for k in range(n-1,-1,-1):\n",
    "        z[k] = (b[k]-z.dot(L[k,:]))/L[k,k]\n",
    "        \n",
    "    return z"
   ]
  },
  {
   "cell_type": "code",
   "execution_count": 3,
   "id": "1a9894be-e133-4c34-be6d-7e949c370d89",
   "metadata": {
    "tags": []
   },
   "outputs": [],
   "source": [
    "def forward_substitution(L,b):\n",
    "    n = b.shape[0]\n",
    "    z = np.zeros(n)\n",
    "    L = L.copy().astype(float)\n",
    "    b = b.copy().astype(float)\n",
    "        \n",
    "    for k in range(0,n):\n",
    "        z[k] = (b[k]-z.dot(L[k,:]))/L[k,k]\n",
    "        \n",
    "    return z\n"
   ]
  },
  {
   "cell_type": "markdown",
   "id": "f05f7f6e-82a1-4824-8930-71f978cdfe09",
   "metadata": {
    "tags": []
   },
   "source": [
    "## Cholesky Solver"
   ]
  },
  {
   "cell_type": "code",
   "execution_count": 4,
   "id": "ddd0fbae-673d-45e9-a65b-e4be17634b6a",
   "metadata": {
    "tags": []
   },
   "outputs": [],
   "source": [
    "def cholesky_solver(A,b, safety=True):\n",
    "    \"\"\"\n",
    "    Solves $Ax=b$ with respect to $x$ by decomposing $A$ into $LL^T$, where $L$ is a lower triangular matrix.\n",
    "    $A$ must be Hermitian positive-definite.\n",
    "    \n",
    "    Parameters\n",
    "    ----------\n",
    "    A : (N,N) Numpy array\n",
    "        Hermitian, positive-definite input matrix.\n",
    "    b : (1,N) Numpy array\n",
    "\n",
    "    Returns\n",
    "    -------\n",
    "    x : (1,N) Numpy array\n",
    "        Solution to $Ax=b$ wrt. x\n",
    "    \"\"\"\n",
    "    sols = []\n",
    "    L = cholesky(A, safety)\n",
    "\n",
    "    for bi in b:\n",
    "        z = forward_substitution(L,bi)\n",
    "        \n",
    "        x = backward_substitution(L.T,z)\n",
    "        \n",
    "        sols.append(x)\n",
    "\n",
    "        \n",
    "    sols = sols[0] if len(sols) == 1 else sols\n",
    "    \n",
    "    return sols\n"
   ]
  },
  {
   "cell_type": "markdown",
   "id": "f712b1df-9857-46f5-bd67-45ff18fd0559",
   "metadata": {},
   "source": [
    "## Gaussian Elimination solver"
   ]
  },
  {
   "cell_type": "code",
   "execution_count": 5,
   "id": "842ec94b-27c3-4be7-b4f2-c3ee2c8000d7",
   "metadata": {
    "tags": []
   },
   "outputs": [],
   "source": [
    "def gaussian_elimination(A,b): \n",
    "    \n",
    "    n = b.shape[1]\n",
    "    b = b.copy().astype(float)\n",
    "    sols = []\n",
    "    \n",
    "    for bi in b:\n",
    "        \n",
    "        iter_A = A.copy().astype(float)\n",
    "\n",
    "        for k in range(n-1):\n",
    "\n",
    "            for j in range(k+1,n):\n",
    "\n",
    "                assert iter_A[k,k]!=0, 'Div by zero'\n",
    "\n",
    "                if (iter_A[j,k] != 0):\n",
    "                    factor = iter_A[j,k]/iter_A[k,k]\n",
    "                    iter_A[j,k+1:] = iter_A[j,k+1:] - factor*iter_A[k,k+1:] \n",
    "                    bi[j] = bi[j] - factor*bi[k]\n",
    "\n",
    "        x = backward_substitution(iter_A,bi)\n",
    "\n",
    "        sols.append(x)\n",
    "        \n",
    "    sols = sols[0] if len(sols) == 1 else sols\n",
    "    \n",
    "    return sols\n"
   ]
  },
  {
   "cell_type": "markdown",
   "id": "6299650f-cdfa-4dff-8e50-dbb3e1774f24",
   "metadata": {
    "tags": []
   },
   "source": [
    "## Time complexity testing"
   ]
  },
  {
   "cell_type": "code",
   "execution_count": 6,
   "id": "f824f259-68ed-4ffd-9cb3-ecf0a4dba563",
   "metadata": {
    "tags": []
   },
   "outputs": [],
   "source": [
    "def measure_time(linear_solver, problem_size, runs=10, targets=1):\n",
    "    t = 0\n",
    "    problems = [gen_linear_problem(problem_size, targets=targets) for _ in range(runs)]\n",
    "    _\n",
    "    for i in range(runs):\n",
    "        for j in range(targets):\n",
    "            A, b = problems[i]\n",
    "            s = time()\n",
    "            linear_solver(A,b)\n",
    "            e = time() - s\n",
    "            t += e\n",
    "        \n",
    "    return t/(runs*targets)\n"
   ]
  },
  {
   "cell_type": "code",
   "execution_count": 7,
   "id": "8b4d239b-17cf-4b4a-9b3a-29fa92d5eb69",
   "metadata": {
    "tags": []
   },
   "outputs": [],
   "source": [
    "def gen_linear_problem(problem_size, targets):\n",
    "    n = problem_size\n",
    "    A = np.random.random((n,n))\n",
    "    A = A@A.T\n",
    "    b = [np.random.random(n) for _ in range(targets)]\n",
    "    return A, np.array(b)                                                \n"
   ]
  },
  {
   "cell_type": "code",
   "execution_count": 8,
   "id": "e8df555e-d3d9-4aed-aafb-41ce3890d4a7",
   "metadata": {
    "tags": []
   },
   "outputs": [],
   "source": [
    "from time import time\n",
    "runs = 3\n",
    "targets = 1\n",
    "start_size=0\n",
    "step_width = 1\n",
    "size = 200"
   ]
  },
  {
   "cell_type": "code",
   "execution_count": 9,
   "id": "8e8eb769-c1ee-4d4b-97a4-6e30d554166a",
   "metadata": {
    "tags": []
   },
   "outputs": [],
   "source": [
    "times_cholesky = []\n",
    "for i in range(start_size,size,step_width):\n",
    "    times_cholesky.append(measure_time(cholesky_solver, i, runs=runs, targets=targets))\n"
   ]
  },
  {
   "cell_type": "code",
   "execution_count": 10,
   "id": "e0a65c44-8d2b-472f-a7a3-c3b98c0f0b67",
   "metadata": {
    "tags": []
   },
   "outputs": [],
   "source": [
    "times_gauss = []\n",
    "for i in range(start_size,size,step_width):\n",
    "    times_gauss.append(measure_time(gaussian_elimination, i, runs=runs, targets=targets))"
   ]
  },
  {
   "cell_type": "code",
   "execution_count": 11,
   "id": "4f601e76-6787-4569-99e8-985723b9eef0",
   "metadata": {
    "tags": []
   },
   "outputs": [],
   "source": [
    "import matplotlib.pyplot as plt"
   ]
  },
  {
   "cell_type": "code",
   "execution_count": 12,
   "id": "02f2788d-e171-4810-9d12-1710f6aaf15a",
   "metadata": {
    "tags": []
   },
   "outputs": [
    {
     "data": {
      "image/png": "[encoded data removed]",
      "text/plain": [
       "<Figure size 640x480 with 1 Axes>"
      ]
     },
     "metadata": {},
     "output_type": "display_data"
    }
   ],
   "source": [
    "plt.plot((np.arange(start_size/step_width,size/step_width)*step_width).astype(int), times_gauss, label=\"gauss\", c=\"red\")\n",
    "plt.plot((np.arange(start_size/step_width,size/step_width)*step_width).astype(int), times_cholesky, label=\"cholesky\", c=\"blue\")\n",
    "plt.legend()\n",
    "plt.xlabel(\"$N$ where $A \\in IR^{N x N}$ \")\n",
    "plt.ylabel(f\"Average Computation time over {runs} run(s)\")\n",
    "plt.title(f\"Cholesky vs. Gaussian Elimination for {targets} target(s)\")\n",
    "None"
   ]
  }
 ],
 "metadata": {
  "kernelspec": {
   "display_name": "Python 3 (ipykernel)",
   "language": "python",
   "name": "python3"
  },
  "language_info": {
   "codemirror_mode": {
    "name": "ipython",
    "version": 3
   },
   "file_extension": ".py",
   "mimetype": "text/x-python",
   "name": "python",
   "nbconvert_exporter": "python",
   "pygments_lexer": "ipython3",
   "version": "3.7.12"
  }
 },
 "nbformat": 4,
 "nbformat_minor": 5
}
